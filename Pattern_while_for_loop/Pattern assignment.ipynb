{
 "cells": [
  {
   "cell_type": "markdown",
   "id": "3dbf7b1a-0267-404f-bf80-d2ab9daff595",
   "metadata": {},
   "source": [
    "## Patterns"
   ]
  },
  {
   "cell_type": "markdown",
   "id": "53c80a80-c15c-432d-8719-c645dba5fff7",
   "metadata": {},
   "source": [
    "## FOR LOOP"
   ]
  },
  {
   "cell_type": "code",
   "execution_count": 1,
   "id": "2535cefa-4bec-4a50-ac2e-fb73207daa31",
   "metadata": {},
   "outputs": [],
   "source": [
    "a=\"*****\""
   ]
  },
  {
   "cell_type": "code",
   "execution_count": 2,
   "id": "22b1ba2c-52b9-4438-ad83-3793c922f126",
   "metadata": {},
   "outputs": [
    {
     "name": "stdout",
     "output_type": "stream",
     "text": [
      "*****\n",
      "*****\n",
      "*****\n",
      "*****\n"
     ]
    }
   ],
   "source": [
    "for x in range (4):\n",
    "    print(a)"
   ]
  },
  {
   "cell_type": "code",
   "execution_count": 3,
   "id": "9bcacd14-432e-4795-a4ed-4d82d5f03d16",
   "metadata": {},
   "outputs": [
    {
     "name": "stdout",
     "output_type": "stream",
     "text": [
      "* * * * * \n",
      "* * * * * \n",
      "* * * * * \n",
      "* * * * * \n",
      "* * * * * \n"
     ]
    }
   ],
   "source": [
    "for a in range(5):\n",
    "    for a in range (5):\n",
    "        print(\"*\",end =\" \")\n",
    "    print()"
   ]
  },
  {
   "cell_type": "code",
   "execution_count": 6,
   "id": "d888e419-c9f4-4308-a1c5-45f5ca768888",
   "metadata": {},
   "outputs": [
    {
     "name": "stdout",
     "output_type": "stream",
     "text": [
      "*\n",
      "**\n",
      "***\n",
      "****\n",
      "*****\n"
     ]
    }
   ],
   "source": [
    "h = 5\n",
    "for i in range(1, h + 1):\n",
    "    print('*' * i)"
   ]
  },
  {
   "cell_type": "code",
   "execution_count": 7,
   "id": "bd6c3e35-c22a-4a5c-b089-ad51d4410db6",
   "metadata": {},
   "outputs": [
    {
     "name": "stdout",
     "output_type": "stream",
     "text": [
      "*****\n",
      "****\n",
      "***\n",
      "**\n",
      "*\n"
     ]
    }
   ],
   "source": [
    "h = 5\n",
    "for i in range(h,0, - 1):\n",
    "    print('*' * i)"
   ]
  },
  {
   "cell_type": "code",
   "execution_count": 9,
   "id": "e37f8981-4fd1-4ecd-aed4-cccee39918d6",
   "metadata": {},
   "outputs": [
    {
     "name": "stdout",
     "output_type": "stream",
     "text": [
      "1 \n",
      "1 2 \n",
      "1 2 3 \n",
      "1 2 3 4 \n",
      "1 2 3 4 5 \n"
     ]
    }
   ],
   "source": [
    "h= 5\n",
    "for i in range(1, h + 1):\n",
    "    for j in range(1,i+1):\n",
    "        print(j, end=' ')\n",
    "        \n",
    "    print()"
   ]
  },
  {
   "cell_type": "code",
   "execution_count": 10,
   "id": "618afad3-7c8c-41ef-a8b4-1d32b0dbbe3f",
   "metadata": {},
   "outputs": [
    {
     "name": "stdout",
     "output_type": "stream",
     "text": [
      "5 4 3 2 1 \n",
      "4 3 2 1 \n",
      "3 2 1 \n",
      "2 1 \n",
      "1 \n"
     ]
    }
   ],
   "source": [
    "h = 5\n",
    "for i in range( h,0, -1):\n",
    "    for j in range(i,0,-1):\n",
    "        print(j, end=' ')\n",
    "        \n",
    "    print()"
   ]
  },
  {
   "cell_type": "code",
   "execution_count": 11,
   "id": "f05e5fb3-9933-4da4-a18c-cd15485e65f9",
   "metadata": {},
   "outputs": [
    {
     "name": "stdout",
     "output_type": "stream",
     "text": [
      "     *\n",
      "    **\n",
      "   ***\n",
      "  ****\n",
      " *****\n"
     ]
    }
   ],
   "source": [
    "h=5\n",
    "for i in range(1, h + 1):\n",
    "    print(\" \" * (h-i) , \"*\" * i)"
   ]
  },
  {
   "cell_type": "code",
   "execution_count": 12,
   "id": "35185e88-6f1b-4d33-9156-ebfa273839ba",
   "metadata": {},
   "outputs": [
    {
     "name": "stdout",
     "output_type": "stream",
     "text": [
      "     **\n",
      "    ****\n",
      "   ******\n",
      "  ********\n",
      " **********\n"
     ]
    }
   ],
   "source": [
    "h=5\n",
    "for i in range(1, h + 1):\n",
    "    print(\" \" * (h-i) ,\"*\"*i*2)"
   ]
  },
  {
   "cell_type": "code",
   "execution_count": 13,
   "id": "db512274-2ee9-46b4-899a-e5aaa95d5bba",
   "metadata": {},
   "outputs": [
    {
     "name": "stdout",
     "output_type": "stream",
     "text": [
      "    *\n",
      "   ***\n",
      "  *****\n",
      " *******\n",
      "*********\n"
     ]
    }
   ],
   "source": [
    "x = 5\n",
    "for i in range(x):\n",
    "    for j in range(x - i - 1):\n",
    "        print(' ', end='')\n",
    "    for k in range(2 * i + 1):\n",
    "        print('*', end='')\n",
    "    print()"
   ]
  },
  {
   "cell_type": "code",
   "execution_count": 15,
   "id": "d2c52415-8011-4ec8-8390-4170a9ac3dfc",
   "metadata": {},
   "outputs": [
    {
     "name": "stdout",
     "output_type": "stream",
     "text": [
      "    *\n",
      "   ***\n",
      "  *****\n",
      " *******\n",
      "*********\n",
      " *******\n",
      "  *****\n",
      "   ***\n",
      "    *\n"
     ]
    }
   ],
   "source": [
    "h= 5\n",
    "for i in range(h):\n",
    "    for j in range(h - i - 1):\n",
    "        print(' ', end='')\n",
    "    for k in range(2 * i + 1):\n",
    "        print('*', end='')\n",
    "    print()\n",
    "for i in range(h - 2, -1, -1):\n",
    "    for j in range(h - i - 1):\n",
    "        print(' ', end='')\n",
    "    for k in range(2 * i + 1):\n",
    "        print('*', end='')\n",
    "    print()"
   ]
  },
  {
   "cell_type": "markdown",
   "id": "f0cc4704-e7fa-4b4c-b3e6-8de1a7a35c9e",
   "metadata": {},
   "source": [
    "## WHILE LOOP"
   ]
  },
  {
   "cell_type": "code",
   "execution_count": 16,
   "id": "d0273abf-366a-4402-bc67-137a3d2f1d47",
   "metadata": {},
   "outputs": [
    {
     "name": "stdout",
     "output_type": "stream",
     "text": [
      "*****\n",
      "*****\n",
      "*****\n",
      "*****\n",
      "*****\n"
     ]
    }
   ],
   "source": [
    "i=1\n",
    "while i<=5:\n",
    "    j=1\n",
    "    while j<=5:\n",
    "        print(\"*\",end=\"\")\n",
    "        j+=1\n",
    "    print()\n",
    "    i+=1"
   ]
  },
  {
   "cell_type": "code",
   "execution_count": 17,
   "id": "ef00005f-191a-4950-b064-632c45b014d8",
   "metadata": {},
   "outputs": [
    {
     "name": "stdout",
     "output_type": "stream",
     "text": [
      "*\n",
      "**\n",
      "***\n",
      "****\n",
      "*****\n",
      "******\n"
     ]
    }
   ],
   "source": [
    "x=5\n",
    "i=1\n",
    "while i<=x+1:\n",
    "    print(\"*\"*i)\n",
    "    i = i+1"
   ]
  },
  {
   "cell_type": "code",
   "execution_count": 18,
   "id": "3e17f1f7-7754-45b7-92e7-f037cc280ac1",
   "metadata": {},
   "outputs": [
    {
     "name": "stdout",
     "output_type": "stream",
     "text": [
      "*****\n",
      "****\n",
      "***\n",
      "**\n",
      "*\n",
      "\n"
     ]
    }
   ],
   "source": [
    "i=5\n",
    "while i>=0:\n",
    "    print(\"*\"*i)\n",
    "    i = i-1"
   ]
  },
  {
   "cell_type": "code",
   "execution_count": 19,
   "id": "1f87bff3-6bd2-4db1-98c1-0a255b164826",
   "metadata": {},
   "outputs": [
    {
     "name": "stdout",
     "output_type": "stream",
     "text": [
      "1 \n",
      "1 2 \n",
      "1 2 3 \n",
      "1 2 3 4 \n",
      "1 2 3 4 5 \n"
     ]
    }
   ],
   "source": [
    "x=5\n",
    "i=1\n",
    "while i< x+1:\n",
    "    j=1\n",
    "    while j<i+1:\n",
    "        print(j,end=\" \")\n",
    "        j=j+1\n",
    "    print()\n",
    "    i=i+1"
   ]
  },
  {
   "cell_type": "code",
   "execution_count": 20,
   "id": "db539e92-189b-471c-9fc2-3f28c76ecfc6",
   "metadata": {},
   "outputs": [
    {
     "name": "stdout",
     "output_type": "stream",
     "text": [
      "\n",
      "5 \n",
      "5 4 \n",
      "5 4 3 \n",
      "5 4 3 2 \n",
      "5 4 3 2 1 \n"
     ]
    }
   ],
   "source": [
    "i=5\n",
    "while i>=0:\n",
    "    j=5\n",
    "    while j>i:\n",
    "        print(j,end=\" \")\n",
    "        j=j-1\n",
    "    print()\n",
    "    i=i-1"
   ]
  },
  {
   "cell_type": "code",
   "execution_count": 21,
   "id": "46800b07-fa4c-475a-af3b-3edf14195fb8",
   "metadata": {},
   "outputs": [
    {
     "name": "stdout",
     "output_type": "stream",
     "text": [
      "* * * * * \n",
      "* * * * \n",
      "* * * \n",
      "* * \n",
      "* \n"
     ]
    }
   ],
   "source": [
    "n = 5\n",
    "i = n\n",
    "while i >= 1:\n",
    "    j = 1\n",
    "    while j <= i:\n",
    "        print(\"*\", end=\" \")\n",
    "        j += 1\n",
    "    print()\n",
    "    i -= 1"
   ]
  },
  {
   "cell_type": "code",
   "execution_count": 31,
   "id": "4b39ae1e-4c06-4b5f-aaa8-4523cc25f967",
   "metadata": {},
   "outputs": [
    {
     "name": "stdout",
     "output_type": "stream",
     "text": [
      "     *\n",
      "    **\n",
      "   ***\n",
      "  ****\n",
      " *****\n"
     ]
    }
   ],
   "source": [
    "h= 5\n",
    "i = 1\n",
    "while i < h + 1:\n",
    "    print(\" \" * (h-i), \"*\" * i)\n",
    "    i = i + 1 "
   ]
  },
  {
   "cell_type": "code",
   "execution_count": 22,
   "id": "3c0dc636-45a8-4e49-8855-7d2b0b5f617a",
   "metadata": {},
   "outputs": [
    {
     "name": "stdout",
     "output_type": "stream",
     "text": [
      "        * \n",
      "      * * * \n",
      "    * * * * * \n",
      "  * * * * * * * \n",
      "* * * * * * * * * \n"
     ]
    }
   ],
   "source": [
    "n = 5\n",
    "i = 1\n",
    "while i <= n:\n",
    "    j = n\n",
    "    while j > i:\n",
    "        print(\" \", end=\" \")\n",
    "        j =j - 1\n",
    "    k = 1\n",
    "    while k <= (2 * i - 1):\n",
    "        print(\"*\", end=\" \")\n",
    "        k =k+ 1\n",
    "    print()\n",
    "    i =i+ 1"
   ]
  },
  {
   "cell_type": "code",
   "execution_count": 25,
   "id": "17b25c5c-8fcc-43e5-9e63-6bcee42080e3",
   "metadata": {},
   "outputs": [
    {
     "name": "stdout",
     "output_type": "stream",
     "text": [
      "     **\n",
      "    ****\n",
      "   ******\n",
      "  ********\n",
      " **********\n"
     ]
    }
   ],
   "source": [
    "x = 5\n",
    "i = 1\n",
    "while i < x + 1:\n",
    "    print(\" \" * (x-i),\"*\" * i * 2)\n",
    "    i = i + 1    "
   ]
  },
  {
   "cell_type": "code",
   "execution_count": 27,
   "id": "d8d9a3e1-3ef5-4cd1-9ad1-a02c4dfe88c3",
   "metadata": {},
   "outputs": [
    {
     "name": "stdout",
     "output_type": "stream",
     "text": [
      "        * \n",
      "      * * * \n",
      "    * * * * * \n",
      "  * * * * * * * \n",
      "* * * * * * * * * \n",
      "  * * * * * * * \n",
      "    * * * * * \n",
      "      * * * \n",
      "        * \n"
     ]
    }
   ],
   "source": [
    "h = 5\n",
    "i = 1\n",
    "while i <= h:\n",
    "    j = h\n",
    "    while j > i:\n",
    "        print(\" \", end=\" \")\n",
    "        j -= 1\n",
    "    k = 1\n",
    "    while k <= (2 * i - 1):\n",
    "        print(\"*\", end=\" \")\n",
    "        k += 1\n",
    "    print()\n",
    "    i += 1\n",
    "\n",
    "i = h - 1\n",
    "while i >= 1:\n",
    "    j = h\n",
    "    while j > i:\n",
    "        print(\" \", end=\" \")\n",
    "        j -= 1\n",
    "    k = 1\n",
    "    while k <= (2 * i - 1):\n",
    "        print(\"*\", end=\" \")\n",
    "        k += 1\n",
    "    print()\n",
    "    i -= 1"
   ]
  },
  {
   "cell_type": "code",
   "execution_count": 28,
   "id": "eafdb062-4e08-48e9-b4a5-f0bfb7fa673b",
   "metadata": {},
   "outputs": [
    {
     "name": "stdout",
     "output_type": "stream",
     "text": [
      "    *\n",
      "   ***\n",
      "  *****\n",
      " *******\n",
      "*********\n",
      " *******\n",
      "  *****\n",
      "   ***\n",
      "    *\n"
     ]
    }
   ],
   "source": [
    "x = 5\n",
    "i = 0\n",
    "while i < x:\n",
    "    j = 0\n",
    "    while j < x - i - 1:\n",
    "        print(' ', end='')\n",
    "        j += 1\n",
    "    k = 0\n",
    "    while k < 2 * i + 1:\n",
    "        print('*', end='')\n",
    "        k += 1\n",
    "    print()\n",
    "    i += 1\n",
    "i = x - 2\n",
    "while i >= 0:\n",
    "    j = 0\n",
    "    while j < x - i - 1:\n",
    "        print(' ', end='')\n",
    "        j += 1\n",
    "    k = 0\n",
    "    while k < 2 * i + 1:\n",
    "        print('*', end='')\n",
    "        k += 1\n",
    "    print()\n",
    "    i -= 1"
   ]
  }
 ],
 "metadata": {
  "kernelspec": {
   "display_name": "Python 3 (ipykernel)",
   "language": "python",
   "name": "python3"
  },
  "language_info": {
   "codemirror_mode": {
    "name": "ipython",
    "version": 3
   },
   "file_extension": ".py",
   "mimetype": "text/x-python",
   "name": "python",
   "nbconvert_exporter": "python",
   "pygments_lexer": "ipython3",
   "version": "3.12.2"
  }
 },
 "nbformat": 4,
 "nbformat_minor": 5
}
