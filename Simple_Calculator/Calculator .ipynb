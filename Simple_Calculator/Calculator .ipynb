{
 "cells": [
  {
   "cell_type": "code",
   "execution_count": 2,
   "id": "cea063fa-2a88-48ec-aa91-14a277f08ac3",
   "metadata": {},
   "outputs": [
    {
     "name": "stdout",
     "output_type": "stream",
     "text": [
      "Welcome:\n",
      "Select the operation you want to perform:\n",
      "1. Add (+)\n",
      "2. Subtract (-)\n",
      "3. Multiply (*)\n",
      "4. Divide (/)\n",
      "5. Modulus (%)\n"
     ]
    },
    {
     "name": "stdin",
     "output_type": "stream",
     "text": [
      "Enter choice (1/2/3/4/5):  1\n",
      "Enter first number:  32\n",
      "Enter second number:  22\n"
     ]
    },
    {
     "name": "stdout",
     "output_type": "stream",
     "text": [
      "Result: 54.0\n"
     ]
    }
   ],
   "source": [
    "print(\"Welcome:\")\n",
    "print(\"Select the operation you want to perform:\")\n",
    "print(\"1. Add (+)\")\n",
    "print(\"2. Subtract (-)\")\n",
    "print(\"3. Multiply (*)\")\n",
    "print(\"4. Divide (/)\")\n",
    "print(\"5. Modulus (%)\")\n",
    "\n",
    "operation = input(\"Enter choice (1/2/3/4/5): \")\n",
    "\n",
    "z = float(input(\"Enter first number: \"))\n",
    "k = float(input(\"Enter second number: \"))\n",
    "\n",
    "if operation == '1' or operation == '+':\n",
    "    result = z + k\n",
    "elif operation == '2' or operation == '-':\n",
    "    result = z - k\n",
    "elif operation == '3' or operation == '*':\n",
    "    result = z * k\n",
    "elif operation == '4' or operation == '/':\n",
    "    if k == 0:\n",
    "        result = \"Error! Cannot divide by zero.\"\n",
    "    else:\n",
    "        result = z / k\n",
    "elif operation == '5' or operation == '%':\n",
    "    if k == 0:\n",
    "        result = \"Error! Cannot perform operation with zero divisor.\"\n",
    "    else:\n",
    "        result = z % k\n",
    "else:\n",
    "    result = \"Invalid operation!\"\n",
    "\n",
    "print(\"Result:\", result)\n"
   ]
  },
  {
   "cell_type": "code",
   "execution_count": null,
   "id": "393c2cbb-9ed4-43e8-a385-fe43c0813b40",
   "metadata": {},
   "outputs": [],
   "source": []
  }
 ],
 "metadata": {
  "kernelspec": {
   "display_name": "Python 3 (ipykernel)",
   "language": "python",
   "name": "python3"
  },
  "language_info": {
   "codemirror_mode": {
    "name": "ipython",
    "version": 3
   },
   "file_extension": ".py",
   "mimetype": "text/x-python",
   "name": "python",
   "nbconvert_exporter": "python",
   "pygments_lexer": "ipython3",
   "version": "3.12.2"
  }
 },
 "nbformat": 4,
 "nbformat_minor": 5
}
