{
 "cells": [
  {
   "cell_type": "code",
   "execution_count": null,
   "id": "ec8a45b5-81f9-4fef-8ee4-1f83fa0058b6",
   "metadata": {},
   "outputs": [
    {
     "name": "stdout",
     "output_type": "stream",
     "text": [
      "  |   |  \n",
      "-----\n",
      "  |   |  \n",
      "-----\n",
      "  |   |  \n",
      "-----\n",
      "Player X's turn\n"
     ]
    }
   ],
   "source": [
    "class TicTacToe:\n",
    "    def __init__(self):\n",
    "        self.board = [[' ' for _ in range(3)] for _ in range(3)]\n",
    "        self.current_player = 'X'\n",
    "\n",
    "    def print_board(self):\n",
    "        for row in self.board:\n",
    "            row_str = \"\"\n",
    "            for cell in row:\n",
    "                row_str += cell + \" | \"\n",
    "            print(row_str[:-3])  # Remove the trailing \" | \"\n",
    "            print(\"-\" * 5)\n",
    "\n",
    "    def check_winner(self):\n",
    "        player = self.current_player\n",
    "\n",
    "        # Check rows\n",
    "        for row in self.board:\n",
    "            if all([cell == player for cell in row]):\n",
    "                return True\n",
    "\n",
    "        for col in range(3):\n",
    "            if all([self.board[row][col] == player for row in range(3)]):\n",
    "                return True\n",
    "\n",
    "        if all([self.board[i][i] == player for i in range(3)]) or all([self.board[i][2 - i] == player for i in range(3)]):\n",
    "            return True\n",
    "\n",
    "        return False\n",
    "\n",
    "    def is_draw(self):\n",
    "        return all([cell in ['X', 'O'] for row in self.board for cell in row])\n",
    "\n",
    "    def next_player(self, player):\n",
    "        return 'O' if player == 'X' else 'X'\n",
    "\n",
    "    def play_game(self):\n",
    "        while True:\n",
    "            self.print_board()\n",
    "            print(f\"Player {self.current_player}'s turn\")\n",
    "\n",
    "            while True:\n",
    "                try:\n",
    "                    row = int(input(\"Enter row (0, 1, 2): \"))\n",
    "                    col = int(input(\"Enter column (0, 1, 2): \"))\n",
    "                    if row in range(3) and col in range(3):\n",
    "                        if self.board[row][col] == ' ':\n",
    "                            self.board[row][col] = self.current_player\n",
    "                            break\n",
    "                        else:\n",
    "                            print(\"Cell already taken, try again.\")\n",
    "                    else:\n",
    "                        print(\"Invalid input, please enter a number between 0 and 2.\")\n",
    "                except ValueError:\n",
    "                    print(\"Invalid input, please enter a number between 0 and 2.\")\n",
    "\n",
    "            if self.check_winner():\n",
    "                self.print_board()\n",
    "                print(f\"Player {self.current_player} wins!\")\n",
    "                break\n",
    "\n",
    "            if self.is_draw():\n",
    "                self.print_board()\n",
    "                print(\"It's a draw!\")\n",
    "                break\n",
    "\n",
    "            self.current_player = self.next_player(self.current_player)\n",
    "\n",
    "game = TicTacToe()\n",
    "game.play_game()\n"
   ]
  },
  {
   "cell_type": "code",
   "execution_count": null,
   "id": "89936520-c6be-4e60-819a-b90068e394a5",
   "metadata": {},
   "outputs": [],
   "source": []
  }
 ],
 "metadata": {
  "kernelspec": {
   "display_name": "Python 3 (ipykernel)",
   "language": "python",
   "name": "python3"
  },
  "language_info": {
   "codemirror_mode": {
    "name": "ipython",
    "version": 3
   },
   "file_extension": ".py",
   "mimetype": "text/x-python",
   "name": "python",
   "nbconvert_exporter": "python",
   "pygments_lexer": "ipython3",
   "version": "3.12.2"
  }
 },
 "nbformat": 4,
 "nbformat_minor": 5
}
