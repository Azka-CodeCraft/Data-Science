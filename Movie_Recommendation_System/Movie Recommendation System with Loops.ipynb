{
 "cells": [
  {
   "cell_type": "code",
   "execution_count": 2,
   "id": "8484373f-484f-4384-9438-33aaef634f69",
   "metadata": {},
   "outputs": [
    {
     "name": "stdout",
     "output_type": "stream",
     "text": [
      "Welcome to the Movie Recommendation System\n"
     ]
    },
    {
     "name": "stdin",
     "output_type": "stream",
     "text": [
      "Please enter your name:  azka\n",
      "Please enter your favorite movie genre:  action\n"
     ]
    },
    {
     "name": "stdout",
     "output_type": "stream",
     "text": [
      "\n",
      "azka, we recommend the following movies in the action genre:\n",
      "- Bahuballi\n",
      "- Sultan\n",
      "- Ghajini\n",
      "- KGF\n"
     ]
    }
   ],
   "source": [
    "movies = [\n",
    "    (\"Yeh Jawani Hai Deewani\", \"Comedy\"),\n",
    "    (\"HIT\", \"Crime\"),\n",
    "    (\"Bahuballi\", \"Action,Fantasy\"),\n",
    "    (\"Badla\", \"Crime\"),\n",
    "    (\"Veer Zara\", \"Romantic\"),\n",
    "    (\"Dream Girl\", \"Drama,Comedy\"),\n",
    "    (\"Sultan\", \"Action\"),\n",
    "    (\"Main Hoon Na\", \"Drama,Comedy\"),\n",
    "    (\"Wild Wild Punjab\", \"Romance,Drama,Comedy\"),\n",
    "    (\"Ghajini\", \"Action,Romance,Thriller\"),\n",
    "    (\"KGF\", \"Action,Crime\")\n",
    "]\n",
    "\n",
    "def recommend_movies(genre):\n",
    "    recommended_titles = []\n",
    "    for movie in movies:\n",
    "        genres = [g.lower() for g in movie[1].split(',')]\n",
    "        if genre.lower() in genres:\n",
    "            recommended_titles.append(movie[0])\n",
    "    return recommended_titles\n",
    "\n",
    "def get_genre():\n",
    "    while True:\n",
    "        genre = input(\"Please enter your favorite movie genre: \")\n",
    "        if genre:\n",
    "            return genre\n",
    "        else:\n",
    "            print(\"Genre cannot be empty. Please try again.\")\n",
    "\n",
    "def display_recommendations(name, genre, recommendations):\n",
    "    if recommendations:\n",
    "        print(f\"\\n{name}, we recommend the following movies in the {genre} genre:\")\n",
    "        for movie in recommendations:\n",
    "            print(\"- \" + movie)\n",
    "    else:\n",
    "        print(f\"Sorry {name}, we don't have any recommendations for the {genre} genre. Please try again.\")\n",
    "        genre = get_genre()\n",
    "        recommendations = recommend_movies(genre)\n",
    "        display_recommendations(name, genre, recommendations)\n",
    "\n",
    "def main():\n",
    "    print(\"Welcome to the Movie Recommendation System\")\n",
    "    \n",
    "    name = input(\"Please enter your name: \")\n",
    "    while not name:\n",
    "        print(\"Name cannot be empty. Please try again.\")\n",
    "        name = input(\"Please enter your name: \")\n",
    "    \n",
    "    genre = get_genre()\n",
    "    \n",
    "    recommendations = recommend_movies(genre)\n",
    "    \n",
    "    display_recommendations(name, genre, recommendations)\n",
    "\n",
    "main()\n"
   ]
  },
  {
   "cell_type": "code",
   "execution_count": null,
   "id": "0918bc93-29da-4a64-932a-14ba00e4cc30",
   "metadata": {},
   "outputs": [],
   "source": []
  }
 ],
 "metadata": {
  "kernelspec": {
   "display_name": "Python 3 (ipykernel)",
   "language": "python",
   "name": "python3"
  },
  "language_info": {
   "codemirror_mode": {
    "name": "ipython",
    "version": 3
   },
   "file_extension": ".py",
   "mimetype": "text/x-python",
   "name": "python",
   "nbconvert_exporter": "python",
   "pygments_lexer": "ipython3",
   "version": "3.12.2"
  }
 },
 "nbformat": 4,
 "nbformat_minor": 5
}
