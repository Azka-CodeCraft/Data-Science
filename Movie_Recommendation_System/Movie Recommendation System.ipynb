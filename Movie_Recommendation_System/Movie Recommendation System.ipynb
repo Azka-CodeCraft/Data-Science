{
 "cells": [
  {
   "cell_type": "code",
   "execution_count": 4,
   "id": "12f7ac45-703e-43e6-9787-687b66b0f2d0",
   "metadata": {},
   "outputs": [
    {
     "name": "stdout",
     "output_type": "stream",
     "text": [
      "Welcome to the Movie Recommendation System\n"
     ]
    },
    {
     "name": "stdin",
     "output_type": "stream",
     "text": [
      "Please enter your name:  sultan\n",
      "Please enter your favorite movie genre:  action\n"
     ]
    },
    {
     "name": "stdout",
     "output_type": "stream",
     "text": [
      "\n",
      "sultan, we recommend the following movies in the action genre:\n",
      "- Sultan\n"
     ]
    }
   ],
   "source": [
    "\n",
    "movies = [\n",
    "     (\"Yeh jawani hai deewani\", \"Comedy\"),\n",
    "    (\"HIT\", \"Crime\"),\n",
    "    (\"Bahuballi\", \"Action,Fantasy\"),\n",
    "    (\"Badla\", \"Crime\"),\n",
    "    (\"Veer Zara\", \"Romantic\"),\n",
    "    (\"Dream girl\", \"Drama,Comedy\"),\n",
    "    (\"Sultan\", \"Action\"),\n",
    "    (\"Main hiin na\", \"Drama,Comedy\"),\n",
    "    (\"Wild Wild Punjab\", \"Romance, Drama, Comedy\"),\n",
    "    (\"Gajni\", \"Action,Romance, Thriller\"),\n",
    "    (\"KGF\",\"Action,Crime\")\n",
    "]\n",
    "1111111\n",
    "# Function to recommend movies based on genre\n",
    "def recommend_movies(genre):\n",
    "    def genre_filter(movie):\n",
    "        return movie[1].lower() == genre.lower()\n",
    "\n",
    "    def movie_title(movie):\n",
    "        return movie[0]\n",
    "\n",
    "    filtered_movies = list(filter(genre_filter, movies))\n",
    "    recommended_titles = list(map(movie_title, filtered_movies))\n",
    "    return recommended_titles\n",
    "\n",
    "def get_genre():\n",
    "    genre = input(\"Please enter your favorite movie genre: \")\n",
    "    return genre\n",
    "\n",
    "\n",
    "def display_recommendations(name, genre, recommendations):\n",
    "    if recommendations:\n",
    "        print(f\"\\n{name}, we recommend the following movies in the {genre} genre:\")\n",
    "        for movie in recommendations:\n",
    "            print(\"- \" + movie)\n",
    "    else:\n",
    "        print(f\"Sorry {name}, we don't have any recommendations for the {genre} genre. Please try again.\")\n",
    "        \n",
    "        genre = get_genre()\n",
    "        recommendations = recommend_movies(genre)\n",
    "        display_recommendations(name, genre, recommendations)\n",
    "\n",
    "\n",
    "def main():\n",
    "    print(\"Welcome to the Movie Recommendation System\")\n",
    "    \n",
    "    \n",
    "    name = input(\"Please enter your name: \")\n",
    "    \n",
    "    genre = get_genre()\n",
    "    \n",
    "    recommendations = recommend_movies(genre)\n",
    "    \n",
    "    display_recommendations(name, genre, recommendations)\n",
    "\n",
    "main()"
   ]
  },
  {
   "cell_type": "code",
   "execution_count": null,
   "id": "c97bb55a-b7eb-4e43-ad7d-d81074aa35ca",
   "metadata": {},
   "outputs": [],
   "source": []
  }
 ],
 "metadata": {
  "kernelspec": {
   "display_name": "Python 3 (ipykernel)",
   "language": "python",
   "name": "python3"
  },
  "language_info": {
   "codemirror_mode": {
    "name": "ipython",
    "version": 3
   },
   "file_extension": ".py",
   "mimetype": "text/x-python",
   "name": "python",
   "nbconvert_exporter": "python",
   "pygments_lexer": "ipython3",
   "version": "3.12.2"
  }
 },
 "nbformat": 4,
 "nbformat_minor": 5
}
